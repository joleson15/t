{
 "cells": [
  {
   "cell_type": "code",
   "execution_count": 100,
   "id": "dcfb3b5e-7770-427f-a4f3-fde45535950b",
   "metadata": {},
   "outputs": [],
   "source": [
    "import torch\n",
    "import matplotlib.pyplot as plt\n",
    "%matplotlib inline\n",
    "import torch.nn.functional as F"
   ]
  },
  {
   "cell_type": "code",
   "execution_count": 1,
   "id": "e58ec06e-e46d-4e5c-ab20-ccbe75be371c",
   "metadata": {},
   "outputs": [],
   "source": [
    "words = open('names.txt', 'r').read().splitlines()"
   ]
  },
  {
   "cell_type": "code",
   "execution_count": 42,
   "id": "3fc75ad9-4a34-405b-8390-8c5c17042c29",
   "metadata": {},
   "outputs": [],
   "source": [
    "N = torch.zeros((27,27), dtype=torch.int32)"
   ]
  },
  {
   "cell_type": "code",
   "execution_count": 43,
   "id": "9b43b533-861d-4856-9319-e9e025515605",
   "metadata": {},
   "outputs": [],
   "source": [
    "chars = sorted(list(set(''.join(words))))\n",
    "stoi = {s:i+1 for i,s in enumerate(chars)}\n",
    "stoi['.'] = 0\n",
    "itos = {i:s for s, i in stoi.items()}"
   ]
  },
  {
   "cell_type": "code",
   "execution_count": 45,
   "id": "d559b127-50ed-4b1d-bc13-d8c278d02243",
   "metadata": {},
   "outputs": [],
   "source": [
    "for w in words:\n",
    "    chs = ['.'] + list(w) + ['.']\n",
    "    for ch1, ch2 in zip(chs, chs[1:]):\n",
    "        ix1, ix2 = stoi[ch1], stoi[ch2]\n",
    "        N[ix1, ix2] += 1"
   ]
  },
  {
   "cell_type": "code",
   "execution_count": 49,
   "id": "206aa986-4377-4858-84d0-2c9fb2c82a62",
   "metadata": {},
   "outputs": [
    {
     "data": {
      "text/plain": [
       "'j'"
      ]
     },
     "execution_count": 49,
     "metadata": {},
     "output_type": "execute_result"
    }
   ],
   "source": [
    "p = N[0].float()\n",
    "p = p / p.sum()\n",
    "\n",
    "g = torch.Generator().manual_seed(2147483647)\n",
    "ix = torch.multinomial(p, num_samples=1, replacement=True, generator=g).item()\n",
    "\n",
    "itos[ix]"
   ]
  },
  {
   "cell_type": "code",
   "execution_count": 94,
   "id": "dc3a3968-2761-4d25-9ccb-0b10221f183e",
   "metadata": {},
   "outputs": [],
   "source": [
    "P = (N+1).float()\n",
    "P /= P.sum(1, keepdim=True)"
   ]
  },
  {
   "cell_type": "code",
   "execution_count": 95,
   "id": "185ef1ba-4f6d-4ee2-8d9a-a9ebd261a4cb",
   "metadata": {},
   "outputs": [
    {
     "name": "stdout",
     "output_type": "stream",
     "text": [
      "junide.\n",
      "janasah.\n",
      "p.\n",
      "cony.\n",
      "a.\n"
     ]
    }
   ],
   "source": [
    "g = torch.Generator().manual_seed(2147483647)\n",
    "\n",
    "for i in range(5):\n",
    "    out = []\n",
    "    ix = 0\n",
    "    while True:\n",
    "        p = P[ix]\n",
    "        ix = torch.multinomial(p, num_samples=1, replacement=True, generator=g).item()\n",
    "        out.append(itos[ix])\n",
    "        if ix == 0:\n",
    "            break\n",
    "    \n",
    "    print(''.join(out))"
   ]
  },
  {
   "cell_type": "code",
   "execution_count": 159,
   "id": "f0c0b2f8-2434-4104-bab2-aadbe51968bb",
   "metadata": {},
   "outputs": [
    {
     "name": "stdout",
     "output_type": "stream",
     "text": [
      "log_likelihood=tensor(-60.3371)\n",
      "nll=tensor(60.3371)\n",
      "nll/n=tensor(2.4135)\n"
     ]
    }
   ],
   "source": [
    "log_likelihood = 0.0\n",
    "n = 0\n",
    "\n",
    "for w in words[:4]:\n",
    "    chs = ['.'] + list(w) + ['.']\n",
    "    for ch1, ch2 in zip(chs, chs[1:]):\n",
    "        ix1, ix2 = stoi[ch1], stoi[ch2]\n",
    "        prob = P[ix1, ix2]\n",
    "        logprob = torch.log(prob)\n",
    "        log_likelihood += logprob\n",
    "        n += 1\n",
    "        # print(f'{ch1}{ch2}: {prob:.4f}: {logprob:.4f}')\n",
    "print(f'{log_likelihood=}')\n",
    "nll = -log_likelihood\n",
    "print(f'{nll=}')\n",
    "print(f'{nll/n=}')"
   ]
  },
  {
   "cell_type": "code",
   "execution_count": 173,
   "id": "237d6da1-6680-4e85-b4d1-228af8391a74",
   "metadata": {},
   "outputs": [
    {
     "name": "stdout",
     "output_type": "stream",
     "text": [
      "num examples: 228146\n"
     ]
    }
   ],
   "source": [
    "xs, ys = [], []\n",
    "\n",
    "for w in words:\n",
    "    chs = ['.'] + list(w) + ['.']\n",
    "    for ch1, ch2 in zip(chs, chs[1:]):\n",
    "        ix1, ix2 = stoi[ch1], stoi[ch2]\n",
    "        xs.append(ix1)\n",
    "        ys.append(ix2)\n",
    "\n",
    "xs = torch.tensor(xs)\n",
    "ys = torch.tensor(ys)\n",
    "num = xs.nelement()\n",
    "print(f'num examples: {num}')\n",
    "\n",
    "g = torch.Generator().manual_seed(2147483647)\n",
    "W = torch.randn((27, 27), generator=g, requires_grad=True)"
   ]
  },
  {
   "cell_type": "code",
   "execution_count": 175,
   "id": "9a4974d5-7e3b-4353-9d90-1da96b6aa1c6",
   "metadata": {},
   "outputs": [
    {
     "name": "stdout",
     "output_type": "stream",
     "text": [
      "2.4726526737213135\n",
      "2.4724342823028564\n",
      "2.4722204208374023\n",
      "2.472010850906372\n",
      "2.471806049346924\n",
      "2.4716055393218994\n",
      "2.4714088439941406\n",
      "2.4712166786193848\n",
      "2.4710280895233154\n",
      "2.470843553543091\n",
      "2.4706623554229736\n",
      "2.4704854488372803\n",
      "2.4703118801116943\n",
      "2.4701414108276367\n",
      "2.4699742794036865\n",
      "2.4698104858398438\n",
      "2.4696500301361084\n",
      "2.469492197036743\n",
      "2.4693379402160645\n",
      "2.4691860675811768\n",
      "2.4690370559692383\n",
      "2.468890905380249\n",
      "2.468747854232788\n",
      "2.46860671043396\n",
      "2.46846866607666\n",
      "2.468332529067993\n",
      "2.4681990146636963\n",
      "2.4680678844451904\n",
      "2.4679391384124756\n",
      "2.4678127765655518\n",
      "2.46768856048584\n",
      "2.4675662517547607\n",
      "2.4674463272094727\n",
      "2.4673283100128174\n",
      "2.467211961746216\n",
      "2.4670979976654053\n",
      "2.4669854640960693\n",
      "2.4668753147125244\n",
      "2.466766834259033\n",
      "2.4666597843170166\n",
      "2.466554641723633\n",
      "2.466451406478882\n",
      "2.4663493633270264\n",
      "2.4662487506866455\n",
      "2.4661502838134766\n",
      "2.4660532474517822\n",
      "2.4659576416015625\n",
      "2.4658634662628174\n",
      "2.465770721435547\n",
      "2.465679407119751\n",
      "2.4655895233154297\n",
      "2.465500593185425\n",
      "2.4654133319854736\n",
      "2.465327501296997\n",
      "2.465242385864258\n",
      "2.4651591777801514\n",
      "2.4650766849517822\n",
      "2.4649953842163086\n",
      "2.4649155139923096\n",
      "2.464836359024048\n",
      "2.4647586345672607\n",
      "2.464682102203369\n",
      "2.464606285095215\n",
      "2.464531660079956\n",
      "2.4644579887390137\n",
      "2.464385747909546\n",
      "2.4643139839172363\n",
      "2.464242935180664\n",
      "2.4641737937927246\n",
      "2.464104652404785\n",
      "2.4640369415283203\n",
      "2.4639699459075928\n",
      "2.4639036655426025\n",
      "2.4638383388519287\n",
      "2.4637739658355713\n",
      "2.463710308074951\n",
      "2.4636473655700684\n",
      "2.463585615158081\n",
      "2.4635238647460938\n",
      "2.463463544845581\n",
      "2.4634037017822266\n",
      "2.4633448123931885\n",
      "2.4632863998413086\n",
      "2.463228940963745\n",
      "2.4631717205047607\n",
      "2.4631154537200928\n",
      "2.463060140609741\n",
      "2.4630048274993896\n",
      "2.4629507064819336\n",
      "2.4628970623016357\n",
      "2.462843894958496\n",
      "2.462791681289673\n",
      "2.462739944458008\n",
      "2.462688446044922\n",
      "2.4626376628875732\n",
      "2.462587594985962\n",
      "2.462538242340088\n",
      "2.462489128112793\n",
      "2.4624407291412354\n",
      "2.462393045425415\n"
     ]
    }
   ],
   "source": [
    "for k in range(100):\n",
    "    \n",
    "    xenc = F.one_hot(xs, num_classes=27).float()\n",
    "    logits = xenc @ W\n",
    "    counts = logits.exp()\n",
    "    prob = counts / counts.sum(1, keepdims=True)\n",
    "    loss = -prob[torch.arange(num), ys].log().mean()\n",
    "    print(loss.item())\n",
    "    \n",
    "    W.grad = None\n",
    "    loss.backward()\n",
    "    W.data += -50 * W.grad"
   ]
  },
  {
   "cell_type": "code",
   "execution_count": null,
   "id": "8f2993c4-5853-4889-9c2e-cc76b9653118",
   "metadata": {},
   "outputs": [],
   "source": []
  },
  {
   "cell_type": "code",
   "execution_count": null,
   "id": "5afaa448-85d3-4993-bd28-5b830a3c6939",
   "metadata": {},
   "outputs": [],
   "source": []
  }
 ],
 "metadata": {
  "kernelspec": {
   "display_name": "Python 3 (ipykernel)",
   "language": "python",
   "name": "python3"
  },
  "language_info": {
   "codemirror_mode": {
    "name": "ipython",
    "version": 3
   },
   "file_extension": ".py",
   "mimetype": "text/x-python",
   "name": "python",
   "nbconvert_exporter": "python",
   "pygments_lexer": "ipython3",
   "version": "3.10.12"
  }
 },
 "nbformat": 4,
 "nbformat_minor": 5
}
