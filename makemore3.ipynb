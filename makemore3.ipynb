{
 "cells": [
  {
   "cell_type": "code",
   "execution_count": null,
   "id": "0231e189-a63b-44a6-bf84-3cbf703c486e",
   "metadata": {},
   "outputs": [],
   "source": [
    "import torch\n",
    "import matplotlib.pyplot as plt\n",
    "%matplotlib inline\n",
    "import torch.nn.functional as F"
   ]
  },
  {
   "cell_type": "code",
   "execution_count": null,
   "id": "3edcdb04-150e-4f7e-ab2d-dafdc7067800",
   "metadata": {},
   "outputs": [],
   "source": [
    "words = open('names.txt', 'r').read().splitlines()"
   ]
  },
  {
   "cell_type": "code",
   "execution_count": null,
   "id": "6306c38d-a51c-4f25-b8bb-2fda21513ae3",
   "metadata": {},
   "outputs": [],
   "source": [
    "chars = sorted(list(set(''.join(words))))\n",
    "stoi = {s:i+1 for i,s in enumerate(chars)}\n",
    "stoi['.'] = 0\n",
    "itos = {i:s for s, i in stoi.items()}\n",
    "vocab_size = len(itos)"
   ]
  },
  {
   "cell_type": "code",
   "execution_count": null,
   "id": "f4365e41-18c3-4c64-89ae-a89d79b74fd2",
   "metadata": {},
   "outputs": [],
   "source": [
    "block_size = 3\n",
    "\n",
    "def build_dataset(words):\n",
    "    block_size = 3\n",
    "    X, Y = [], []\n",
    "    for w in words:\n",
    "        context = [0] * block_size\n",
    "        for ch in w + '.':\n",
    "            ix = stoi[ch]\n",
    "            X.append(context)\n",
    "            Y.append(ix)\n",
    "            context = context[1:] + [ix]\n",
    "\n",
    "    X = torch.tensor(X)\n",
    "    Y = torch.tensor(Y)\n",
    "    print(X.shape, Y.shape)\n",
    "    return X, Y\n",
    "\n",
    "\n",
    "import random\n",
    "random.seed(42)\n",
    "random.shuffle(words)\n",
    "n1 = int(0.8*len(words))\n",
    "n2 = int(0.9*len(words))\n",
    "\n",
    "Xtr, Ytr = build_dataset(words[:n1])\n",
    "Xdev, Ydev = build_dataset(words[n1:n2])\n",
    "Xte, Yte = build_dataset(words[n2:])"
   ]
  },
  {
   "cell_type": "code",
   "execution_count": null,
   "id": "d329f2b1-563b-48da-819b-3bb598c6ecd0",
   "metadata": {},
   "outputs": [],
   "source": [
    "#initializing with kaiming initialization\n",
    "\n",
    "n_embd = 10\n",
    "n_hidden = 200\n",
    "\n",
    "g = torch.Generator().manual_seed(2147483647)\n",
    "C = torch.randn((vocab_size, n_embd), generator=g)\n",
    "W1 = torch.randn((n_embd * block_size, n_hidden), generator=g) * (5/3) / ((n_embd * block_size)**0.5) #* 0.2\n",
    "# b1 = torch.randn(n_hidden, generator=g) * 0.01\n",
    "W2 = torch.randn((n_hidden, vocab_size), generator=g) * 0.01\n",
    "b2 = torch.randn(vocab_size, generator=g) * 0\n",
    "\n",
    "bngain = torch.ones((1, n_hidden))\n",
    "bnbias = torch.zeros((1, n_hidden))\n",
    "bnmean_running = torch.zeros((1, n_hidden))\n",
    "bnstd_running = torch.ones((1, n_hidden))\n",
    "\n",
    "parameters = [C, W1, W2, b2, bngain, bnbias]\n",
    "print(sum(p.nelement() for p in parameters))\n",
    "for p in parameters:\n",
    "    p.requires_grad = True"
   ]
  },
  {
   "cell_type": "code",
   "execution_count": null,
   "id": "03ba69b7-6372-4a71-9a23-dcea0e1dbc8b",
   "metadata": {},
   "outputs": [],
   "source": [
    "torch.randn(1000).std()"
   ]
  },
  {
   "cell_type": "code",
   "execution_count": null,
   "id": "a11f64be-d17e-4eeb-9150-4f5be413255c",
   "metadata": {},
   "outputs": [],
   "source": [
    "x = torch.randn(1000, 10)\n",
    "w = torch.randn(10, 200) / 10**0.5\n",
    "y = x @ w\n",
    "print(x.mean(), x.std())\n",
    "print(y.mean(), y.std())\n",
    "\n",
    "plt.figure(figsize=(20, 5))\n",
    "plt.subplot(121)\n",
    "plt.hist(x.view(-1).tolist(), 50, density=True);\n",
    "plt.subplot(122)\n",
    "plt.hist(y.view(-1).tolist(), 50, density=True);"
   ]
  },
  {
   "cell_type": "code",
   "execution_count": null,
   "id": "c75ac73a-dbac-4154-952e-26795151b5bc",
   "metadata": {},
   "outputs": [],
   "source": [
    "hpreact.shape"
   ]
  },
  {
   "cell_type": "code",
   "execution_count": null,
   "id": "e290a912-14f3-4a9f-bd6b-2a9c57b7e5ee",
   "metadata": {},
   "outputs": [],
   "source": [
    "hpreact.mean(0, keepdim=True).shape"
   ]
  },
  {
   "cell_type": "code",
   "execution_count": null,
   "id": "d37bfe05-adef-410b-9e57-c1b8e235c845",
   "metadata": {},
   "outputs": [],
   "source": [
    "#Forward\n",
    "max_steps = 200000\n",
    "batch_size = 32\n",
    "lossi = []\n",
    "\n",
    "for i in range(max_steps):\n",
    "\n",
    "    ix = torch.randint(0, Xtr.shape[0], (batch_size,))\n",
    "    Xb, Yb = Xtr[ix], Ytr[ix]\n",
    "    \n",
    "    emb = C[Xb]\n",
    "    embcat = emb.view(emb.shape[0], -1)\n",
    "    hpreact = embcat @ W1 # + b1\n",
    "    bnmeani = hpreact.mean(0, keepdim=True)\n",
    "    bnstdi = hpreact.std(0, keepdim=True)\n",
    "    hpreact = bngain * (hpreact - bnmeani) / bnstdi + bnbias\n",
    "\n",
    "    with torch.no_grad():\n",
    "        bnmean_running = 0.999*bnmean_running + 0.001 * bnmeani\n",
    "        bnstd_running = 0.999*bnstd_running + 0.001 * bnstdi\n",
    "        \n",
    "    h = torch.tanh(hpreact)\n",
    "    logits = h @ W2 + b2\n",
    "    loss = F.cross_entropy(logits, Yb)\n",
    "    \n",
    "    for p in parameters:\n",
    "        p.grad = None\n",
    "        \n",
    "    loss.backward()\n",
    "    \n",
    "    # lr = lrs[i]\n",
    "    lr = 0.1 if i < 100000 else 0.01\n",
    "    for p in parameters:\n",
    "        p.data += -lr * p.grad\n",
    "\n",
    "    #track LR stats:\n",
    "    # lri.append(lre[i])\n",
    "    if i % 10000 == 0:\n",
    "        print(f'{i:7d} /{max_steps:7d}: {loss.item():.4f}')\n",
    "    lossi.append(loss.log10().item())\n",
    "\n",
    "    \n",
    "    \n",
    "print(loss.item())"
   ]
  },
  {
   "cell_type": "code",
   "execution_count": 83,
   "id": "23d4227a-bb7f-46b7-ae1d-3264892361b9",
   "metadata": {},
   "outputs": [
    {
     "data": {
      "text/plain": [
       "(tensor([ -6.1218,  -0.6446,   5.4820, -13.9032]),\n",
       " tensor([9.1114e-06, 2.1792e-03, 9.9781e-01, 3.8033e-09]),\n",
       " tensor(0.0022))"
      ]
     },
     "execution_count": 83,
     "metadata": {},
     "output_type": "execute_result"
    }
   ],
   "source": [
    "#4-dimensional example of the issue\n",
    "# logits = torch.tensor([-3.0, 5.0, 0.0, 2.0])\n",
    "logits = torch.randn(4)*10\n",
    "probs = torch.softmax(logits, dim=0)\n",
    "loss = -probs[2].log()\n",
    "logits, probs, loss\n",
    "\n",
    "#fixing softmax from being confidently wrong at initialization\n",
    "#large numbers at init can cause softmax function to predict the next character with probability very near 1 and the rest zero\n",
    "#multiply weights by a small scale factor and start with zero bias to better initialize and spend less cycles squashing the parameters"
   ]
  },
  {
   "cell_type": "code",
   "execution_count": 84,
   "id": "0c5f81ef-6863-457d-aff9-29ae295a286e",
   "metadata": {},
   "outputs": [
    {
     "data": {
      "text/plain": [
       "tensor(3.2958)"
      ]
     },
     "execution_count": 84,
     "metadata": {},
     "output_type": "execute_result"
    }
   ],
   "source": [
    "-torch.tensor(1/27.0).log()"
   ]
  },
  {
   "cell_type": "code",
   "execution_count": 85,
   "id": "f6daa95b-554c-4716-b960-ab4ff7a20d01",
   "metadata": {},
   "outputs": [],
   "source": [
    "# plt.plot(lossi)"
   ]
  },
  {
   "cell_type": "code",
   "execution_count": 86,
   "id": "0e747355-4d86-481e-8b35-496aafc83098",
   "metadata": {},
   "outputs": [
    {
     "data": {
      "text/plain": [
       "(array([ 976.,  223.,  121.,  154.,  107.,   73.,   77.,   71.,   66.,\n",
       "          57.,   52.,   65.,   57.,   67.,   76.,   68.,   75.,   68.,\n",
       "          56.,   89.,  104.,   80.,  106.,  108.,  102.,  126.,  133.,\n",
       "         100.,   71.,   75.,   71.,   72.,   99.,   50.,   55.,   55.,\n",
       "          42.,   61.,   72.,   49.,   76.,   59.,   74.,   92.,  105.,\n",
       "          88.,  122.,  195.,  271., 1089.]),\n",
       " array([-9.99999940e-01, -9.59999942e-01, -9.19999943e-01, -8.79999944e-01,\n",
       "        -8.39999945e-01, -7.99999946e-01, -7.59999948e-01, -7.19999949e-01,\n",
       "        -6.79999950e-01, -6.39999951e-01, -5.99999952e-01, -5.59999954e-01,\n",
       "        -5.19999955e-01, -4.79999956e-01, -4.39999957e-01, -3.99999958e-01,\n",
       "        -3.59999959e-01, -3.19999961e-01, -2.79999962e-01, -2.39999963e-01,\n",
       "        -1.99999964e-01, -1.59999965e-01, -1.19999967e-01, -7.99999678e-02,\n",
       "        -3.99999690e-02,  2.98023224e-08,  4.00000286e-02,  8.00000274e-02,\n",
       "         1.20000026e-01,  1.60000025e-01,  2.00000024e-01,  2.40000023e-01,\n",
       "         2.80000021e-01,  3.20000020e-01,  3.60000019e-01,  4.00000018e-01,\n",
       "         4.40000017e-01,  4.80000015e-01,  5.20000014e-01,  5.60000013e-01,\n",
       "         6.00000012e-01,  6.40000011e-01,  6.80000010e-01,  7.20000008e-01,\n",
       "         7.60000007e-01,  8.00000006e-01,  8.40000005e-01,  8.80000004e-01,\n",
       "         9.20000002e-01,  9.60000001e-01,  1.00000000e+00]),\n",
       " <BarContainer object of 50 artists>)"
      ]
     },
     "execution_count": 86,
     "metadata": {},
     "output_type": "execute_result"
    },
    {
     "data": {
      "image/png": "[encoded data removed]",
      "text/plain": [
       "<Figure size 640x480 with 1 Axes>"
      ]
     },
     "metadata": {},
     "output_type": "display_data"
    }
   ],
   "source": [
    "plt.hist(h.view(-1).tolist(), 50)"
   ]
  },
  {
   "cell_type": "code",
   "execution_count": 87,
   "id": "b971e648-d0fa-496e-bbf7-f7a9e173c8b1",
   "metadata": {},
   "outputs": [
    {
     "data": {
      "text/plain": [
       "(array([  3.,   1.,   1.,   9.,   8.,   8.,  15.,  16.,  25.,  31.,  40.,\n",
       "         43.,  78.,  86.,  95., 143., 163., 199., 233., 278., 315., 361.,\n",
       "        666., 895., 469., 365., 306., 319., 251., 211., 154., 146., 123.,\n",
       "         91.,  66.,  52.,  46.,  29.,  15.,  16.,  12.,   9.,   0.,   3.,\n",
       "          3.,   1.,   0.,   0.,   0.,   1.]),\n",
       " array([-8.65104008, -8.27947334, -7.90790661, -7.53633987, -7.16477314,\n",
       "        -6.79320641, -6.42163967, -6.05007294, -5.6785062 , -5.30693947,\n",
       "        -4.93537273, -4.563806  , -4.19223927, -3.82067253, -3.4491058 ,\n",
       "        -3.07753906, -2.70597233, -2.33440559, -1.96283886, -1.59127213,\n",
       "        -1.21970539, -0.84813866, -0.47657192, -0.10500519,  0.26656155,\n",
       "         0.63812828,  1.00969501,  1.38126175,  1.75282848,  2.12439522,\n",
       "         2.49596195,  2.86752869,  3.23909542,  3.61066216,  3.98222889,\n",
       "         4.35379562,  4.72536236,  5.09692909,  5.46849583,  5.84006256,\n",
       "         6.2116293 ,  6.58319603,  6.95476276,  7.3263295 ,  7.69789623,\n",
       "         8.06946297,  8.4410297 ,  8.81259644,  9.18416317,  9.5557299 ,\n",
       "         9.92729664]),\n",
       " <BarContainer object of 50 artists>)"
      ]
     },
     "execution_count": 87,
     "metadata": {},
     "output_type": "execute_result"
    },
    {
     "data": {
      "image/png": "[encoded data removed]",
      "text/plain": [
       "<Figure size 640x480 with 1 Axes>"
      ]
     },
     "metadata": {},
     "output_type": "display_data"
    }
   ],
   "source": [
    "plt.hist(hpreact.view(-1).tolist(), 50)"
   ]
  },
  {
   "cell_type": "code",
   "execution_count": 88,
   "id": "399fd7d3-e41c-46fb-a268-c69eb669b5b5",
   "metadata": {},
   "outputs": [
    {
     "data": {
      "text/plain": [
       "<matplotlib.image.AxesImage at 0x7f84f1b42140>"
      ]
     },
     "execution_count": 88,
     "metadata": {},
     "output_type": "execute_result"
    },
    {
     "data": {
      "image/png": "[encoded data removed]",
      "text/plain": [
       "<Figure size 2000x1000 with 1 Axes>"
      ]
     },
     "metadata": {},
     "output_type": "display_data"
    }
   ],
   "source": [
    "plt.figure(figsize = (20, 10))\n",
    "plt.imshow(h.abs() > 0.99, cmap='gray', interpolation='nearest')\n",
    "\n",
    "#fixing saturated tanh()\n",
    "#post-activation values are very near 1 or -1, causing the gradient to not pass through the tanh layer\n",
    "# because the derivative is (1 - tanh^2), extreme outputs caused by high values at initialization can cause \"dead neurons\"\n",
    "# multiply weights and biases that feed into tanh() by a small scale factor"
   ]
  },
  {
   "cell_type": "code",
   "execution_count": 148,
   "id": "e55587c1-4018-4ad2-92c1-5d63329887ec",
   "metadata": {},
   "outputs": [],
   "source": [
    "#calibrate the batch norm at the end of training\n",
    "\n",
    "with torch.no_grad():\n",
    "    #pass the training set through\n",
    "    emb = C[Xtr]\n",
    "    embcat = emb.view(emb.shape[0], -1)\n",
    "    hpreact = embcat @ W1 #+ b1\n",
    "\n",
    "    #measure the mean/std over the entire training set\n",
    "    bnmean = hpreact.mean(0, keepdim=True)\n",
    "    bnstd = hpreact.std(0, keepdim=True)"
   ]
  },
  {
   "cell_type": "code",
   "execution_count": 149,
   "id": "94199d1d-5757-4f37-916a-c53805d8d1d0",
   "metadata": {},
   "outputs": [
    {
     "name": "stdout",
     "output_type": "stream",
     "text": [
      "2.071403741836548\n",
      "2.113656997680664\n"
     ]
    }
   ],
   "source": [
    "@torch.no_grad()\n",
    "def split_loss(split):\n",
    "\n",
    "    x, y = {\n",
    "        'train': (Xtr, Ytr),\n",
    "        'val': (Xdev, Ydev),\n",
    "        'test': (Xte, Yte),\n",
    "    }[split]\n",
    "    \n",
    "    emb = C[x]\n",
    "    embcat = emb.view(emb.shape[0], -1)\n",
    "    hpreact = embcat @ W1 #+ b1\n",
    "    hpreact = bngain * (hpreact - bnmean_running) / bnstd_running + bnbias\n",
    "    h = torch.tanh(hpreact)\n",
    "    logits = h @ W2 + b2\n",
    "    loss = F.cross_entropy(logits, y)\n",
    "    print(loss.item())\n",
    "\n",
    "split_loss('train')\n",
    "split_loss('val')"
   ]
  },
  {
   "cell_type": "code",
   "execution_count": 20,
   "id": "bdcc2cdd-3837-4a61-9291-e1bff53bdaeb",
   "metadata": {},
   "outputs": [
    {
     "name": "stdout",
     "output_type": "stream",
     "text": [
      "mora.\n",
      "kayah.\n",
      "see.\n",
      "med.\n",
      "rylle.\n",
      "emmastendraen.\n",
      "adered.\n",
      "eliah.\n",
      "mikaelle.\n",
      "elson.\n",
      "anareelyn.\n",
      "malaia.\n",
      "nyshubergahimier.\n",
      "kendreelynn.\n",
      "nophork.\n",
      "brence.\n",
      "ryyah.\n",
      "fael.\n",
      "yula.\n",
      "mysanyah.\n"
     ]
    }
   ],
   "source": [
    "#sample from the model:\n",
    "g = torch.Generator().manual_seed(2147483647 + 10)\n",
    "\n",
    "\n",
    "for _ in range(20):\n",
    "\n",
    "    out = []\n",
    "    context = [0] * block_size\n",
    "    while True:\n",
    "        emb = C[torch.tensor([context])]\n",
    "        h = torch.tanh(emb.view(1, -1) @ W1 + b1)\n",
    "        logits = h @ W2 + b2\n",
    "        probs = F.softmax(logits, dim=1)\n",
    "        ix = torch.multinomial(probs, num_samples=1, generator=g).item()\n",
    "        context = context[1:] + [ix]\n",
    "        out.append(ix)\n",
    "        if ix == 0:\n",
    "            break\n",
    "\n",
    "    print(''.join(itos[i] for i in out))"
   ]
  },
  {
   "cell_type": "code",
   "execution_count": null,
   "id": "24c334e1-867d-439e-a90f-07543eb3a53a",
   "metadata": {},
   "outputs": [],
   "source": []
  }
 ],
 "metadata": {
  "kernelspec": {
   "display_name": "Python 3 (ipykernel)",
   "language": "python",
   "name": "python3"
  },
  "language_info": {
   "codemirror_mode": {
    "name": "ipython",
    "version": 3
   },
   "file_extension": ".py",
   "mimetype": "text/x-python",
   "name": "python",
   "nbconvert_exporter": "python",
   "pygments_lexer": "ipython3",
   "version": "3.10.12"
  }
 },
 "nbformat": 4,
 "nbformat_minor": 5
}
